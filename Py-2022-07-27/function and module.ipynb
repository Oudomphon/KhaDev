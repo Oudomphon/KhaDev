{
 "cells": [
  {
   "cell_type": "markdown",
   "id": "e58b49d1",
   "metadata": {},
   "source": [
    "# Function and Module "
   ]
  },
  {
   "cell_type": "markdown",
   "id": "50db89a8",
   "metadata": {},
   "source": [
    "### 1. Function"
   ]
  },
  {
   "cell_type": "markdown",
   "id": "bb2f81d5",
   "metadata": {},
   "source": [
    "#### 1.1 user define function\n",
    "###### ex1:"
   ]
  },
  {
   "cell_type": "code",
   "execution_count": 1,
   "id": "43f27fab",
   "metadata": {},
   "outputs": [
    {
     "name": "stdout",
     "output_type": "stream",
     "text": [
      "ສະບາຍດີ ຍິນດີຕ້ອນຮັບ\n",
      "ບົດຮຽນກ່ຽວກັບຟັງຊັນ\n",
      "ການສ້າງຟັງຊັນ\n"
     ]
    }
   ],
   "source": [
    "def greeting():\n",
    "    print(\"ສະບາຍດີ ຍິນດີຕ້ອນຮັບ\")\n",
    "def funct2():\n",
    "    print(\"ບົດຮຽນກ່ຽວກັບຟັງຊັນ\")\n",
    "def creatFunction():\n",
    "    print(\"ການສ້າງຟັງຊັນ\")\n",
    "    \n",
    "greeting()\n",
    "funct2()\n",
    "creatFunction()"
   ]
  },
  {
   "cell_type": "markdown",
   "id": "3ce487de",
   "metadata": {},
   "source": [
    "###### ex2: ໂປຣແກຣມຮັບຄ່າພາຣາເມເຕີເຂົ້າມາໃນຟັງຊັນເພື່ອຫາຜົນບວກ"
   ]
  },
  {
   "cell_type": "code",
   "execution_count": 9,
   "id": "0394c084",
   "metadata": {},
   "outputs": [
    {
     "name": "stdout",
     "output_type": "stream",
     "text": [
      "n1 =  2\n",
      "n2 =  4\n",
      "n1 + n2 =  6\n"
     ]
    }
   ],
   "source": [
    "def plus(n1,n2):\n",
    "    print(\"n1 = \",n1)\n",
    "    print(\"n2 = \",n2)\n",
    "    print(\"n1 + n2 = \", (n1+n2))\n",
    "plus(2,4)"
   ]
  }
 ],
 "metadata": {
  "kernelspec": {
   "display_name": "Python 3 (ipykernel)",
   "language": "python",
   "name": "python3"
  },
  "language_info": {
   "codemirror_mode": {
    "name": "ipython",
    "version": 3
   },
   "file_extension": ".py",
   "mimetype": "text/x-python",
   "name": "python",
   "nbconvert_exporter": "python",
   "pygments_lexer": "ipython3",
   "version": "3.9.12"
  }
 },
 "nbformat": 4,
 "nbformat_minor": 5
}
