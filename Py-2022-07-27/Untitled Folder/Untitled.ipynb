{
 "cells": [
  {
   "cell_type": "code",
   "execution_count": 9,
   "id": "e1bba2e5",
   "metadata": {},
   "outputs": [
    {
     "name": "stdout",
     "output_type": "stream",
     "text": [
      "Hello Yo\n"
     ]
    }
   ],
   "source": [
    "from myModule import *\n",
    "stCS2()"
   ]
  },
  {
   "cell_type": "code",
   "execution_count": 10,
   "id": "30673758",
   "metadata": {},
   "outputs": [
    {
     "name": "stdout",
     "output_type": "stream",
     "text": [
      "Hello Yo\n"
     ]
    }
   ],
   "source": [
    "stCS2()"
   ]
  }
 ],
 "metadata": {
  "kernelspec": {
   "display_name": "Python 3 (ipykernel)",
   "language": "python",
   "name": "python3"
  },
  "language_info": {
   "codemirror_mode": {
    "name": "ipython",
    "version": 3
   },
   "file_extension": ".py",
   "mimetype": "text/x-python",
   "name": "python",
   "nbconvert_exporter": "python",
   "pygments_lexer": "ipython3",
   "version": "3.9.12"
  },
  "vscode": {
   "interpreter": {
    "hash": "c881efef03256f41328bdb14dc2b388df0c8dff8f5c3b2336003c8f429850d54"
   }
  }
 },
 "nbformat": 4,
 "nbformat_minor": 5
}
