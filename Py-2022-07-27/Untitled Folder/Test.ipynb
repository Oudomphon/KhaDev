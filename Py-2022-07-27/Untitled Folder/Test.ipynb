{
 "cells": [
  {
   "cell_type": "code",
   "execution_count": null,
   "metadata": {},
   "outputs": [],
   "source": [
    "import myModule as Dom\n",
    "Dom.stCS1()"
   ]
  }
 ],
 "metadata": {
  "kernelspec": {
   "display_name": "Python 3.9.12 ('base')",
   "language": "python",
   "name": "python3"
  },
  "language_info": {
   "name": "python",
   "version": "3.9.12"
  },
  "orig_nbformat": 4,
  "vscode": {
   "interpreter": {
    "hash": "c881efef03256f41328bdb14dc2b388df0c8dff8f5c3b2336003c8f429850d54"
   }
  }
 },
 "nbformat": 4,
 "nbformat_minor": 2
}
