{
 "cells": [
  {
   "cell_type": "markdown",
   "id": "36134f61",
   "metadata": {},
   "source": [
    "# 001"
   ]
  },
  {
   "cell_type": "code",
   "execution_count": 1,
   "id": "1de5ca06",
   "metadata": {},
   "outputs": [
    {
     "name": "stdout",
     "output_type": "stream",
     "text": [
      "Please enter your name :Oudomphon\n",
      "Hello  Oudomphon\n"
     ]
    }
   ],
   "source": [
    "name = input(\"Please enter your name :\")\n",
    "print(\"Hello \",name)"
   ]
  },
  {
   "cell_type": "markdown",
   "id": "1da6ee36",
   "metadata": {},
   "source": [
    "# 002"
   ]
  },
  {
   "cell_type": "code",
   "execution_count": 17,
   "id": "e066de29",
   "metadata": {},
   "outputs": [
    {
     "name": "stdout",
     "output_type": "stream",
     "text": [
      "Please enter your name :Oudomphon\n",
      "Please enter your surname :Sayavong\n",
      "Hello Oudomphon Sayavong\n"
     ]
    }
   ],
   "source": [
    "name = input(\"Please enter your name :\")\n",
    "sur = input(\"Please enter your surname :\")\n",
    "print('Hello',name,sur)"
   ]
  },
  {
   "cell_type": "markdown",
   "id": "bb49bdb4",
   "metadata": {},
   "source": [
    "# 003"
   ]
  },
  {
   "cell_type": "code",
   "execution_count": 8,
   "id": "f9d62575",
   "metadata": {},
   "outputs": [
    {
     "name": "stdout",
     "output_type": "stream",
     "text": [
      "What do you call a bear with no teeth?\n",
      "A gummy bear!\n"
     ]
    }
   ],
   "source": [
    "print(\"What do you call a bear with no teeth?\"+\"\\n\"+\"A gummy bear!\")"
   ]
  },
  {
   "cell_type": "markdown",
   "id": "09e1c1d3",
   "metadata": {},
   "source": [
    "# 004"
   ]
  },
  {
   "cell_type": "code",
   "execution_count": 10,
   "id": "749f5572",
   "metadata": {},
   "outputs": [
    {
     "name": "stdout",
     "output_type": "stream",
     "text": [
      "Enter first number: 5\n",
      "Enter second number: 3\n",
      "The total is 8\n"
     ]
    }
   ],
   "source": [
    "n1 = int(input((\"Enter first number: \")))\n",
    "n2 = int(input((\"Enter second number: \")))\n",
    "print(f'The total is {n1+n2}')"
   ]
  },
  {
   "cell_type": "markdown",
   "id": "fc206a22",
   "metadata": {},
   "source": [
    "# 005"
   ]
  },
  {
   "cell_type": "code",
   "execution_count": 16,
   "id": "6afc5842",
   "metadata": {},
   "outputs": [
    {
     "name": "stdout",
     "output_type": "stream",
     "text": [
      "Enter number: 3\n",
      "Enter number: 4\n",
      "Enter number: 5\n",
      "The answer is 60\n"
     ]
    }
   ],
   "source": [
    "n1 = int(input((\"Enter number: \")))\n",
    "n2 = int(input((\"Enter number: \")))\n",
    "n3 = int(input((\"Enter number: \")))\n",
    "total = ((n1+n2+n3)*n3)\n",
    "print(\"The answer is\",total)"
   ]
  },
  {
   "cell_type": "markdown",
   "id": "42d4d847",
   "metadata": {},
   "source": [
    "# 006"
   ]
  },
  {
   "cell_type": "code",
   "execution_count": 21,
   "id": "00eca6b1",
   "metadata": {},
   "outputs": [
    {
     "name": "stdout",
     "output_type": "stream",
     "text": [
      "How many slices of pizza do you have at first?\n",
      "15\n",
      "How many slices have you eaten?\n",
      "7\n",
      "You have 8 left\n"
     ]
    }
   ],
   "source": [
    "total = int(input(\"How many slices of pizza do you have at first?\\n\"))\n",
    "eat = int(input(\"How many slices have you eaten?\\n\"))\n",
    "print(f\"You have {(total-eat)} left\")"
   ]
  },
  {
   "cell_type": "markdown",
   "id": "e4492fd9",
   "metadata": {},
   "source": [
    "# 007"
   ]
  },
  {
   "cell_type": "code",
   "execution_count": 24,
   "id": "c9e8023c",
   "metadata": {},
   "outputs": [
    {
     "name": "stdout",
     "output_type": "stream",
     "text": [
      "What is your name? Oudomphon\n",
      "What is your name? 19\n",
      "Oudomphon next birthday you will be 20\n"
     ]
    }
   ],
   "source": [
    "name = input(\"What is your name? \")\n",
    "age = int(input(\"What is your name? \"))+1\n",
    "print(f\"{name} next birthday you will be {age}\")"
   ]
  },
  {
   "cell_type": "markdown",
   "id": "187cb79d",
   "metadata": {},
   "source": [
    "# 008"
   ]
  },
  {
   "cell_type": "code",
   "execution_count": 31,
   "id": "73dfd9a8",
   "metadata": {},
   "outputs": [
    {
     "name": "stdout",
     "output_type": "stream",
     "text": [
      "What is total price? 25000\n",
      "How many diners are there? 5\n",
      "You have to pay 5000 each person\n"
     ]
    }
   ],
   "source": [
    "total_price = int(input(\"What is total price? \"))\n",
    "diner = int(input(\"How many diners are there? \"))\n",
    "print(f\"You have to pay {(total_price//diner)} each person\")"
   ]
  },
  {
   "cell_type": "markdown",
   "id": "98b45ea7",
   "metadata": {},
   "source": [
    "# 009"
   ]
  },
  {
   "cell_type": "code",
   "execution_count": null,
   "id": "c10d5890",
   "metadata": {},
   "outputs": [],
   "source": [
    "day = int(input(\"How many days? \"))"
   ]
  }
 ],
 "metadata": {
  "kernelspec": {
   "display_name": "Python 3 (ipykernel)",
   "language": "python",
   "name": "python3"
  },
  "language_info": {
   "codemirror_mode": {
    "name": "ipython",
    "version": 3
   },
   "file_extension": ".py",
   "mimetype": "text/x-python",
   "name": "python",
   "nbconvert_exporter": "python",
   "pygments_lexer": "ipython3",
   "version": "3.9.12"
  }
 },
 "nbformat": 4,
 "nbformat_minor": 5
}
